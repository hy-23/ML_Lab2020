{
 "cells": [
  {
   "cell_type": "markdown",
   "metadata": {},
   "source": [
    "# HaMLeT"
   ]
  },
  {
   "cell_type": "markdown",
   "metadata": {},
   "source": [
    "# Session 2: Supervised Learning"
   ]
  },
  {
   "cell_type": "markdown",
   "metadata": {},
   "source": [
    "## Goals of this session\n",
    "\n",
    "At the end of this session, you will have an understanding of the following:\n",
    "- Difference between supervised and unsupervised learning\n",
    "- What is meant by Classification in ML\n",
    "- Supervised Learning:\n",
    "    - Support Vector Machine (SVM)\n",
    "    - k-nearest neighbour\n",
    "    - Linear regression\n",
    "- Unsupervised Learning:\n",
    "    - k-means clustering\n",
    "    - GMM"
   ]
  },
  {
   "cell_type": "markdown",
   "metadata": {},
   "source": [
    "For most of the tasks in this notebook, we are going to use our knowledge about PCA from last session. So, instead of using the features of the Iris dataset directly, we are going to use the PCA features we calculated last time. It is advisable that you check the difference in results you obtain with the features directly versus with PCA for the tasks below. "
   ]
  },
  {
   "cell_type": "markdown",
   "metadata": {},
   "source": [
    "Let's first import some of the useful packages and the Iris dataset using `scikit`. We also perform PCA just as we did last time!"
   ]
  },
  {
   "cell_type": "code",
   "execution_count": 3,
   "metadata": {},
   "outputs": [],
   "source": [
    "import numpy as np\n",
    "import matplotlib.pyplot as plt\n",
    "from sklearn import datasets\n",
    "np.random.seed(seed=10) # to ensure reproducible reuslts\n",
    "\n",
    "iris = datasets.load_iris()\n",
    "features = iris.data[:,[0,1,2,3]]\n",
    "targets = iris.target "
   ]
  },
  {
   "cell_type": "markdown",
   "metadata": {},
   "source": [
    "## Recap: PCA"
   ]
  },
  {
   "cell_type": "code",
   "execution_count": 4,
   "metadata": {},
   "outputs": [
    {
     "data": {
      "image/png": "[encoded data removed]",
      "text/plain": [
       "<Figure size 432x288 with 1 Axes>"
      ]
     },
     "metadata": {
      "needs_background": "light"
     },
     "output_type": "display_data"
    }
   ],
   "source": [
    "# Data standarization\n",
    "from sklearn.preprocessing import StandardScaler\n",
    "features = StandardScaler().fit_transform(features)\n",
    "# PCA\n",
    "from sklearn.decomposition import PCA as sklearnPCA\n",
    "sklearn_pca = sklearnPCA(n_components=2)\n",
    "features_PCA = sklearn_pca.fit_transform(features)\n",
    "\n",
    "species = ('Iris-setosa', 'Iris-versicolor', 'Iris-virginica')\n",
    "colors = ('blue','green','red')\n",
    "\n",
    "# Plotting the relationship between PCA1 and PCA2\n",
    "feature1 = features_PCA[:, 0] \n",
    "feature2 = features_PCA[:, 1] \n",
    "    \n",
    "species = ('Iris-setosa', 'Iris-versicolor', 'Iris-virginica')\n",
    "colors = ('blue','green','red')\n",
    "data = [[features_PCA[np.where(targets == target)][:, feature] for feature in [0, 1]] for target in range(3)]\n",
    "\n",
    "for item, color, group in zip(data, colors, species):\n",
    "    plt.scatter(item[0], item[1], color=color)\n",
    "    plt.title('Projection matrix')\n",
    "plt.xlabel('PCA1')\n",
    "plt.ylabel('PCA2')\n",
    "plt.legend(species)\n",
    "plt.show()"
   ]
  },
  {
   "cell_type": "markdown",
   "metadata": {},
   "source": [
    "## 1. Supervised Learning (Classification of the Iris dataset)\n",
    "\n",
    "Classification tasks aim at predicting the class of a given data sample. For the Iris dataset, we want to predict which one of the three species a given sample belongs to. In supervised learning, we do so by 'learning' a model based on some training samples. We then use this trained model to make predictions on 'unseen' or test-dataset.\n",
    "\n",
    "Before we dive into any of the algorithms, we need to get introduced to the idea of splitting the datset into train and test sets. \n",
    "\n",
    "We know that the Iris dataset consists of 150 samples. Now, we will take 80% of the samples as our training set and the remaining as test set. We calculate the accuracy of our model on the test set. The common ML terminology is as follows: X_train, X_test are, respectively, the feature vectors for training and testing; and y_train and y_test are the corresponding labels for X_train and X_test. The predictions will be stored in y_pred."
   ]
  },
  {
   "cell_type": "markdown",
   "metadata": {},
   "source": [
    "**Task:** Using the `train_test_split` function of `sklearn`, split the PCA features obtained above in accordance with the standard ML naming convention (as explained above). \n",
    "\n",
    "Tip: Please use the default parameters for the split. You will learn this topic more in details in the next session ;)"
   ]
  },
  {
   "cell_type": "code",
   "execution_count": 5,
   "metadata": {},
   "outputs": [
    {
     "name": "stdout",
     "output_type": "stream",
     "text": [
      "(120, 2) (30, 2) (120,) (30,)\n"
     ]
    }
   ],
   "source": [
    "# Your code here:\n",
    "# Hint: import the necessary modules first\n",
    "from sklearn.model_selection import train_test_split\n",
    "X_train, X_test, y_train, y_test = train_test_split(features_PCA,targets,test_size=0.2,shuffle=True)\n",
    "\n",
    "print (X_train.shape,X_test.shape,y_train.shape,y_test.shape)\n"
   ]
  },
  {
   "cell_type": "markdown",
   "metadata": {},
   "source": [
    "### 1.1 My very own classifier"
   ]
  },
  {
   "cell_type": "markdown",
   "metadata": {},
   "source": [
    "**Task:** Refer to the PCA plot above and design your own classifier (by completing the assisting code!). For this, you may define simple linear or non-linear conditions to classify the sample points into one of the three classes. \n",
    "\n",
    "Example condition: if PCA1 for given sample < -2, sample is Iris-Setosa"
   ]
  },
  {
   "cell_type": "code",
   "execution_count": 6,
   "metadata": {},
   "outputs": [],
   "source": [
    "# Complete the following lines of code: \n",
    "\n",
    "class StudentsClassifier:\n",
    "    def predict(self, X):\n",
    "        return np.array([self.predict_single(x) for x in X])\n",
    "    \n",
    "    def predict_single(self, X):\n",
    "        # X[0] = PCA feature 1\n",
    "        # X[1] = PCA feature 2\n",
    "        \n",
    "        # write a function that returns the index of the class\n",
    "        # e.g. if Iris-Setosa, return 0 \n",
    "        \n",
    "        # Your code here:\n",
    "        if X[0] < -1:\n",
    "            return 0\n",
    "        elif X[0] < 1:\n",
    "            return 1\n",
    "        else:\n",
    "            return 2\n",
    "            "
   ]
  },
  {
   "cell_type": "markdown",
   "metadata": {},
   "source": [
    "### 1.2. Qualitative evaluation\n",
    "\n",
    "Below is a ready-to-use function to visualize classification boundaries. You are not required to understand it in detail but try to understand what inputs/outputs the functions require/produce. You will need to use these later in the notebook. "
   ]
  },
  {
   "cell_type": "code",
   "execution_count": 7,
   "metadata": {},
   "outputs": [],
   "source": [
    "def make_meshgrid(x, y, h=.02):\n",
    "    \"\"\"Create a mesh of points to plot in\n",
    "\n",
    "    Parameters\n",
    "    ----------\n",
    "    x: data to base x-axis meshgrid on\n",
    "    y: data to base y-axis meshgrid on\n",
    "    h: stepsize for meshgrid, optional\n",
    "\n",
    "    Returns\n",
    "    -------\n",
    "    xx, yy : ndarray\n",
    "    \"\"\"\n",
    "    x_min, x_max = x.min() - 1, x.max() + 1\n",
    "    y_min, y_max = y.min() - 1, y.max() + 1\n",
    "    xx, yy = np.meshgrid(np.arange(x_min, x_max, h),\n",
    "                         np.arange(y_min, y_max, h))\n",
    "    return xx, yy\n",
    "\n",
    "\n",
    "def plot_contours(clf, X, y, **params):\n",
    "    \"\"\"Plot the decision boundaries for a classifier.\n",
    "\n",
    "    Parameters\n",
    "    ----------\n",
    "    ax: matplotlib axes object\n",
    "    clf: a classifier\n",
    "    xx: meshgrid ndarray\n",
    "    yy: meshgrid ndarray\n",
    "    params: dictionary of params to pass to contourf, optional\n",
    "    \"\"\"\n",
    "    fig, ax = plt.subplots(constrained_layout=True)\n",
    "    \n",
    "    X0, X1 = X[:, 0], X[:, 1]\n",
    "    xx, yy = make_meshgrid(X0, X1)\n",
    "    \n",
    "    Z = clf.predict(np.c_[xx.ravel(), yy.ravel()])\n",
    "    Z = Z.reshape(xx.shape)\n",
    "    out = ax.contourf(xx, yy, Z, cmap=plt.cm.coolwarm, alpha=0.7)\n",
    "    \n",
    "    ax.scatter(X0, X1, c=y, cmap=plt.cm.coolwarm, s=30, edgecolors='k')\n",
    "    ax.set_xlim(xx.min(), xx.max())\n",
    "    ax.set_ylim(yy.min(), yy.max())\n",
    "    ax.set_xticks(())\n",
    "    ax.set_yticks(())\n",
    "    plt.show()"
   ]
  },
  {
   "cell_type": "markdown",
   "metadata": {},
   "source": [
    "**Task:** Using the function $plot\\_contours$, visualize the training boundaries obtained by your classifier by providing the correct arguments to it. "
   ]
  },
  {
   "cell_type": "code",
   "execution_count": 8,
   "metadata": {},
   "outputs": [
    {
     "data": {
      "image/png": "[encoded data removed]",
      "text/plain": [
       "<Figure size 432x288 with 1 Axes>"
      ]
     },
     "metadata": {},
     "output_type": "display_data"
    }
   ],
   "source": [
    "# Calling your classifier\n",
    "my_clf = StudentsClassifier()\n",
    "# Visualizing class boundaries for my_clf\n",
    "# Your code here:\n",
    "plot_contours(my_clf, X_train, y_train)\n"
   ]
  },
  {
   "cell_type": "markdown",
   "metadata": {},
   "source": [
    "### 1.3. Quantitative evaluation\n",
    "\n",
    "**Task:** First 'predict' the classes for X_test using the classifier you just defined above. And then calculate the accuracy on this test dataset. Use `scikit`'s `accuracy_score`.\n",
    "\n",
    "Hint: First import the necessary module."
   ]
  },
  {
   "cell_type": "code",
   "execution_count": 9,
   "metadata": {},
   "outputs": [
    {
     "name": "stdout",
     "output_type": "stream",
     "text": [
      "Accuracy of PCA is  90.0\n"
     ]
    }
   ],
   "source": [
    "# Your code here:\n",
    "my_clf = StudentsClassifier()\n",
    "\n",
    "# y_pred = ? # Complete the code!\n",
    "y_pred = my_clf.predict(X_test)\n",
    "\n",
    "from sklearn.metrics import accuracy_score\n",
    "acc = accuracy_score(y_test,y_pred)\n",
    "\n",
    "print (\"Accuracy of PCA is \",acc*100)"
   ]
  },
  {
   "cell_type": "markdown",
   "metadata": {},
   "source": [
    "### 1.4. Support Vector Machine\n",
    "\n",
    "SVMs are a powerful and flexible class of supervised algorithms for both classification and regression. They are memory efficient in that they use only a subset of the training points in the decision function (called support vectors). The simplest SVM uses a linear kernel to separate classes. "
   ]
  },
  {
   "cell_type": "markdown",
   "metadata": {},
   "source": [
    "**Task:** Using `sklearn`'s `svm`, implement a SVM with a linear kernel. Also perform a qualitative and a quantitative evaluation just as you did previously. "
   ]
  },
  {
   "cell_type": "code",
   "execution_count": 10,
   "metadata": {
    "scrolled": true
   },
   "outputs": [
    {
     "data": {
      "image/png": "[encoded data removed]",
      "text/plain": [
       "<Figure size 432x288 with 1 Axes>"
      ]
     },
     "metadata": {},
     "output_type": "display_data"
    },
    {
     "name": "stdout",
     "output_type": "stream",
     "text": [
      "Accuracy of SVM is  90.0\n"
     ]
    }
   ],
   "source": [
    "from sklearn import svm\n",
    "\n",
    "# Example code: LinearSVC\n",
    "clf0 = svm.LinearSVC() # SVC = Support Vector Classifier\n",
    "# train clf0 on X_train and y_train\n",
    "clf0.fit(X_train, y_train)\n",
    "# visualize \n",
    "plot_contours(clf0, X_train, y_train)\n",
    "\n",
    "# Your code here:\n",
    "y_pred = clf0.predict(X_test)\n",
    "acc = accuracy_score(y_test,y_pred)\n",
    "\n",
    "print (\"Accuracy of SVM is \",acc*100)\n"
   ]
  },
  {
   "cell_type": "markdown",
   "metadata": {},
   "source": [
    "**Question:** How is it in comparison to the your classifier? (Compare the accuracies).\n",
    "\n",
    "Answer: It depends on the train sample points selected for the training. Every run with different training data the accuracies are different, sometimes SVM is better and sometimes our classifier is better. \n",
    "\n"
   ]
  },
  {
   "cell_type": "markdown",
   "metadata": {},
   "source": [
    "### 1.4. More on accuracy metrics\n",
    "\n",
    "The Confusion Matrix provides a better summary of the classification performance than just the accuracy score. The latter is often not the best measure for classification tasks involving more than two classes. Calculating a confusion matrix can give you a better idea of what your classification model is getting right and what types of errors it is making."
   ]
  },
  {
   "cell_type": "markdown",
   "metadata": {},
   "source": [
    "**Task:** Read up on Confusion Matrix if you are not familiar with the term. Then using `sklearn`'s `confusion_matrix` draw it and try to understand the perfomance of your classifier. \n",
    "\n",
    "Tip: You may also want to look into `sklearn`'s `classification_report` function. "
   ]
  },
  {
   "cell_type": "code",
   "execution_count": 11,
   "metadata": {},
   "outputs": [
    {
     "name": "stdout",
     "output_type": "stream",
     "text": [
      "[[10  0  0]\n",
      " [ 0 10  3]\n",
      " [ 0  0  7]]\n",
      "              precision    recall  f1-score   support\n",
      "\n",
      "           0       1.00      1.00      1.00        10\n",
      "           1       1.00      0.77      0.87        13\n",
      "           2       0.70      1.00      0.82         7\n",
      "\n",
      "    accuracy                           0.90        30\n",
      "   macro avg       0.90      0.92      0.90        30\n",
      "weighted avg       0.93      0.90      0.90        30\n",
      "\n"
     ]
    }
   ],
   "source": [
    "# Your code here:\n",
    "from sklearn.metrics import confusion_matrix, classification_report\n",
    "\n",
    "C_Mat = confusion_matrix(y_test,y_pred)\n",
    "Report = classification_report(y_test,y_pred)\n",
    "\n",
    "print (C_Mat)\n",
    "print (Report)"
   ]
  },
  {
   "cell_type": "markdown",
   "metadata": {},
   "source": [
    "### 1.5. Tuning the Hyperparameters\n",
    "\n",
    "There are several parameters that can help achieve better results (introduced in the Preparatory Material). \n",
    "\n",
    "- Kernel: Depending on the (expected) distribution of our classes, we can choose different types of functions, eg. linear, polynomial, and radial basis function (RBF). As might be obvious, the latter two are useful for non-linear hyperplane.\n",
    "\n",
    "- Regularization: `C` in scikit-learn is a penalty parameter that controls the flexibility allowed to the hyperplane. A smaller value of C creates a small-margin hyperplane and a larger value creates a larger-margin hyperplane. \n",
    "\n",
    "- Gamma: This defines how far the influence of a single training example reaches, with low values meaning ‘far’ and high values meaning ‘close’. A small gamma value define a Gaussian function with a large variance. In this case, two points can be considered similar even if are far from each other. In the other hand, a large gamma value means define a Gaussian function with a small variance and in this case, two points are considered similar just if they are close to each other."
   ]
  },
  {
   "cell_type": "markdown",
   "metadata": {},
   "source": [
    "**Task:** With a simple trial and error approach try to visualize and understand the effect of the hyperparameters and find an optimum classifier for the given dataset. You may use the metrices you learnt about to evaluate the performance of the different classifiers."
   ]
  },
  {
   "cell_type": "code",
   "execution_count": 12,
   "metadata": {},
   "outputs": [
    {
     "data": {
      "image/png": "[encoded data removed]",
      "text/plain": [
       "<Figure size 432x288 with 1 Axes>"
      ]
     },
     "metadata": {},
     "output_type": "display_data"
    },
    {
     "name": "stdout",
     "output_type": "stream",
     "text": [
      "Accuracy of new SVM is  90.0\n",
      "[[10  0  0]\n",
      " [ 0 10  3]\n",
      " [ 0  0  7]]\n",
      "              precision    recall  f1-score   support\n",
      "\n",
      "           0       1.00      1.00      1.00        10\n",
      "           1       1.00      0.77      0.87        13\n",
      "           2       0.70      1.00      0.82         7\n",
      "\n",
      "    accuracy                           0.90        30\n",
      "   macro avg       0.90      0.92      0.90        30\n",
      "weighted avg       0.93      0.90      0.90        30\n",
      "\n"
     ]
    }
   ],
   "source": [
    "# Your code here:\n",
    "clf1 = svm.SVC( C=0.7, kernel='rbf', degree=4, gamma='scale')\n",
    "\n",
    "\n",
    "clf1.fit(X_train, y_train)\n",
    "# visualize \n",
    "plot_contours(clf1, X_train, y_train)\n",
    "\n",
    "# Your code here:\n",
    "y_pred = clf1.predict(X_test)\n",
    "acc = accuracy_score(y_test,y_pred)\n",
    "\n",
    "print (\"Accuracy of new SVM is \",acc*100)\n",
    "\n",
    "C_Mat = confusion_matrix(y_test,y_pred)\n",
    "Report = classification_report(y_test,y_pred)\n",
    "\n",
    "print (C_Mat)\n",
    "print (Report)\n"
   ]
  },
  {
   "cell_type": "markdown",
   "metadata": {},
   "source": [
    "### 1.6. k-nearest neighbour (knn)"
   ]
  },
  {
   "cell_type": "markdown",
   "metadata": {},
   "source": [
    "### knn Algorithm\n",
    "\n",
    "- Define a distance metric (Euclidean distance)\n",
    "- Choose a value for k (= the number of nearest neighbours) \n",
    "- Take k-nearest neighbors of the new data point, according to your distance metric\n",
    "- Assign the new data point the same category as its nearest neighbors"
   ]
  },
  {
   "cell_type": "markdown",
   "metadata": {},
   "source": [
    "### 1.7. My very own knn classifier\n",
    "\n",
    "We define our own knn classifier according to the above algorithm. "
   ]
  },
  {
   "cell_type": "markdown",
   "metadata": {},
   "source": [
    "**Task (Step 1):** Define a function that calculates the euclidean distance between two points. "
   ]
  },
  {
   "cell_type": "code",
   "execution_count": 13,
   "metadata": {},
   "outputs": [],
   "source": [
    "def my_ecd(v1, v2):\n",
    "    # Your code here:\n",
    "    return  np.sqrt(np.sum(np.square(v1-v2)))\n"
   ]
  },
  {
   "cell_type": "markdown",
   "metadata": {},
   "source": [
    "**Task (Step 2):** Define a function that uses my_ecd to calculate the distance between one single test data point with *all* the training data points. Save the distances *along with their respective indices* in a list. Return the *sorted* list as the output of the function. \n",
    "\n",
    "Hint: 1. To get indices, you may want to use `enumerate`.        2. You may use the function `sort` or `sorted`."
   ]
  },
  {
   "cell_type": "code",
   "execution_count": 14,
   "metadata": {},
   "outputs": [],
   "source": [
    "def my_distance_metric(X_train, single_test):\n",
    "    \"\"\"Calculates the distance between one test sample X_test and every sample in X_train.\n",
    "\n",
    "    Parameters:\n",
    "    X_train = all available training samples\n",
    "    single_test = one particular test sample\n",
    "    k = number of nearest neighbours\n",
    "    -----------\n",
    "    Returns: sorted distance list  \n",
    "    \"\"\"\n",
    "    dist_list = []\n",
    "    # Your code here:\n",
    "    # Define a for-loop to compute distance\n",
    "    for i,X in enumerate(X_train):\n",
    "        dist = my_ecd(X,single_test)\n",
    "        dist_list.append((i,dist)) \n",
    "    \n",
    "    dist_list.sort(key=lambda dist: dist[1])\n",
    "        \n",
    "    return dist_list"
   ]
  },
  {
   "cell_type": "markdown",
   "metadata": {},
   "source": [
    "**Taks (Step 3):** Define a function to save the first k target values corresponding to dist_list obtained above. "
   ]
  },
  {
   "cell_type": "code",
   "execution_count": 15,
   "metadata": {},
   "outputs": [],
   "source": [
    "def my_target_list(dist_list, y_train, k): \n",
    "    # Your code here:\n",
    "    # make a list of the k neighbors' targets\n",
    "    \n",
    "    dist_list = dist_list[:k] \n",
    "    target_list = [y_train[i[0]] for i in dist_list]\n",
    "    \n",
    "    return target_list"
   ]
  },
  {
   "cell_type": "markdown",
   "metadata": {},
   "source": [
    "**Task (Step 4):** Define a function that assigns predictions to the test data points. \n",
    "\n",
    "Hint: Use `most_common`method from the `Counter` object to get the target that occurs maximum number of times."
   ]
  },
  {
   "cell_type": "code",
   "execution_count": 16,
   "metadata": {},
   "outputs": [],
   "source": [
    "from collections import Counter\n",
    "def my_predict(target_list):\n",
    "    # Your code here:\n",
    "    \n",
    "    c = Counter(target_list)\n",
    "    pred = c.most_common(1)\n",
    "    #print (c,\"most\",pred[0][0])\n",
    "    \n",
    "    return pred[0][0]\n",
    "    "
   ]
  },
  {
   "cell_type": "markdown",
   "metadata": {},
   "source": [
    "**Task (Step 5):** Finally define a function that loops through all data points predicting each one by one."
   ]
  },
  {
   "cell_type": "code",
   "execution_count": 17,
   "metadata": {},
   "outputs": [],
   "source": [
    "def my_knn(X_test, X_train, y_train, k):    \n",
    "    all_predictions = []\n",
    "    # Your code here:\n",
    "    # define a for-loop to loop through all the test data points \n",
    "    # to get the predictions for each one of them individually \n",
    "    for x in X_test:\n",
    "        dist_list = my_distance_metric(X_train,x)\n",
    "        target_list = my_target_list(dist_list, y_train, k)\n",
    "        pred = my_predict(target_list)\n",
    "        all_predictions.append(pred)\n",
    "        \n",
    "    return all_predictions\n",
    "        "
   ]
  },
  {
   "cell_type": "markdown",
   "metadata": {},
   "source": [
    "**Task:** Use the knn-function\n",
    "to predict X_test and calculate the accuracy. "
   ]
  },
  {
   "cell_type": "code",
   "execution_count": 18,
   "metadata": {},
   "outputs": [
    {
     "name": "stdout",
     "output_type": "stream",
     "text": [
      "Accuracy of new SVM is  90.0\n"
     ]
    }
   ],
   "source": [
    "# Your code here:\n",
    "y_pred = my_knn(X_test, X_train, y_train, k=5)\n",
    "\n",
    "acc = accuracy_score(y_test,y_pred)\n",
    "\n",
    "print (\"Accuracy of new SVM is \",acc*100)"
   ]
  },
  {
   "cell_type": "markdown",
   "metadata": {},
   "source": [
    "**Task:** Use the built-in knn classifier from `scikit-learn`"
   ]
  },
  {
   "cell_type": "code",
   "execution_count": 19,
   "metadata": {},
   "outputs": [
    {
     "name": "stdout",
     "output_type": "stream",
     "text": [
      "Accuracy of new SVM is  90.0\n"
     ]
    }
   ],
   "source": [
    "# Your code here:\n",
    "from sklearn.neighbors import KNeighborsClassifier\n",
    "\n",
    "neigh = KNeighborsClassifier(n_neighbors=5)\n",
    "neigh.fit(X_train, y_train)\n",
    "\n",
    "y_pred = neigh.predict(X_test)\n",
    "acc = accuracy_score(y_test,y_pred)\n",
    "\n",
    "print (\"Accuracy of new SVM is \",acc*100)"
   ]
  },
  {
   "cell_type": "markdown",
   "metadata": {},
   "source": [
    "**Question:** How does your knn classifier perform in in comparison to the built-in function? \n",
    "\n",
    "Answer: It performs exactly same as built in knn classifier\n",
    "\n"
   ]
  },
  {
   "cell_type": "markdown",
   "metadata": {},
   "source": [
    "## 2. Unsupervised Learning "
   ]
  },
  {
   "cell_type": "markdown",
   "metadata": {},
   "source": [
    "Until now we always worked with features and targets (labels) of the given dataset. In unsupervised learning, we do not have any labels for the data. For classification task, here, we will rely on some clustering algorithms. \n",
    "\n",
    "In this section, we will see the K-means and Gausssian Mixture Model (GMM) clustering methods. These agorithms require us to 'guess' how many clusters (classes) we have. "
   ]
  },
  {
   "cell_type": "markdown",
   "metadata": {},
   "source": [
    "### 2.1. K-means \n",
    "\n",
    "This is the simplest clustering algorithm. We initialize the algorithm with 'k' clusters according to which we get 'k' centroids. The algorithm then iteratively assigns every datapoint to its nearest cluster. The 'means' in its name refers to averaging of the data, i.e., finding the centroid."
   ]
  },
  {
   "cell_type": "markdown",
   "metadata": {},
   "source": [
    "**Task:** Perform unsupervised classification using `sklearn's` `KMeans`. To check your results, print out the output lables and compare with the target values. \n",
    "\n",
    "Note: For this task we ignore the several optional parameters. Providing only the `n_clusters` argument will suffice for this task. "
   ]
  },
  {
   "cell_type": "markdown",
   "metadata": {},
   "source": [
    "**Question:** Before you begin the task, think about which dataset should you work with here? \n",
    "\n",
    "Hint: Unsupervised learning = NO labels available\n",
    "\n",
    "Answer: The dataset will be the complete dataset including both test and train dataset."
   ]
  },
  {
   "cell_type": "code",
   "execution_count": 20,
   "metadata": {},
   "outputs": [
    {
     "name": "stdout",
     "output_type": "stream",
     "text": [
      "[1 1 1 1 1 1 1 1 1 1 1 1 1 1 1 1 1 1 1 1 1 1 1 1 1 1 1 1 1 1 1 1 1 1 1 1 1\n",
      " 1 1 1 1 1 1 1 1 1 1 1 1 1 2 2 2 0 0 0 2 0 0 0 0 0 0 0 0 2 0 0 0 0 2 0 0 0\n",
      " 0 2 2 2 0 0 0 0 0 0 0 2 2 0 0 0 0 0 0 0 0 0 0 0 0 0 2 0 2 2 2 2 0 2 2 2 2\n",
      " 2 2 0 0 2 2 2 2 0 2 0 2 0 2 2 0 2 2 2 2 2 2 0 0 2 2 2 0 2 2 2 0 2 2 2 0 2\n",
      " 2 0]\n"
     ]
    }
   ],
   "source": [
    "# Your code here:\n",
    "from sklearn.cluster import KMeans\n",
    "\n",
    "kmeans = KMeans(n_clusters=3).fit(features_PCA)\n",
    "\n",
    "print (kmeans.predict(features_PCA))\n"
   ]
  },
  {
   "cell_type": "markdown",
   "metadata": {},
   "source": [
    "**Question:** Is it informative to compare the labels and the targets? Explain.\n",
    "\n",
    "Answer: No, We cannot compare the labels from the kMeans because .\n",
    "\n"
   ]
  },
  {
   "cell_type": "markdown",
   "metadata": {},
   "source": [
    "### 2.2 Visualization of labels\n",
    "\n",
    "I hope by now it is clear to you why calculating accuracy as done previously does not make sense in this case. Hence, we perform a simple visualization to assess the performance. "
   ]
  },
  {
   "cell_type": "markdown",
   "metadata": {},
   "source": [
    "**Task:** Plot the results of the kmeans function as a scatter plot (similar to PCA). "
   ]
  },
  {
   "cell_type": "code",
   "execution_count": 21,
   "metadata": {},
   "outputs": [
    {
     "data": {
      "text/plain": [
       "<matplotlib.collections.PathCollection at 0x250e53a7ac8>"
      ]
     },
     "execution_count": 21,
     "metadata": {},
     "output_type": "execute_result"
    },
    {
     "data": {
      "image/png": "[encoded data removed]",
      "text/plain": [
       "<Figure size 432x288 with 1 Axes>"
      ]
     },
     "metadata": {
      "needs_background": "light"
     },
     "output_type": "display_data"
    }
   ],
   "source": [
    "# Your code here:\n",
    "\n",
    "# Optional: Plotting the centroids of the clusters\n",
    "# plt.scatter(kmeans.cluster_centers_[:, 0], kmeans.cluster_centers_[:,1], s = 70, c = 'black')\n",
    "\n",
    "plt.scatter(features_PCA[:, 0], features_PCA[:,1], c=kmeans.predict(features_PCA),cmap='viridis', s = 25)\n",
    "plt.scatter(kmeans.cluster_centers_[:, 0], kmeans.cluster_centers_[:,1], s = 50, c = 'blue')\n"
   ]
  },
  {
   "cell_type": "markdown",
   "metadata": {},
   "source": [
    "### 2.3 The Elbow Method\n",
    "\n",
    "In a truly unsupervised learning scenario, how could we make the initial guess for the number of custers? One option is The Elbow Method.\n",
    "\n",
    "The basic idea behind cluster partitioning methods, such as k-means clustering, is to define clusters such that the total intra-cluster variation, or total within-cluster sum of square (wcss), is minimized. In the Elbow Method, we plot the WCSS against a set of values for 'k' and the location of a bend (elbow) in the plot is generally considered as an indicator of the appropriate number of clusters."
   ]
  },
  {
   "cell_type": "code",
   "execution_count": 22,
   "metadata": {},
   "outputs": [
    {
     "data": {
      "image/png": "[encoded data removed]",
      "text/plain": [
       "<Figure size 432x288 with 1 Axes>"
      ]
     },
     "metadata": {
      "needs_background": "light"
     },
     "output_type": "display_data"
    }
   ],
   "source": [
    "#Finding the optimum number of clusters for k-means classification\n",
    "wcss = [] #within cluster sum of squares\n",
    "\n",
    "for i in range(1, 18):\n",
    "    kmeans = KMeans(n_clusters=i, init='k-means++', max_iter=300, n_init=10, random_state=0)\n",
    "    kmeans.fit(features_PCA)\n",
    "    wcss.append(kmeans.inertia_)\n",
    "    \n",
    "#Plotting the results onto a line graph, allowing us to observe 'The elbow'\n",
    "plt.plot(range(1, 18), wcss)\n",
    "plt.title('The elbow method')\n",
    "plt.xlabel('Number of clusters')\n",
    "plt.ylabel('WCSS') \n",
    "plt.show()"
   ]
  },
  {
   "cell_type": "markdown",
   "metadata": {},
   "source": [
    "**Question:** What is the optimum number of clusters according to the Elbow Method? \n",
    "\n",
    "Answer: 8,  above 8 clusters the WCSS is becoming constant and we are risking of overfitting if the number of clusters is increased. Lower number of clusters have high WCSS."
   ]
  },
  {
   "cell_type": "markdown",
   "metadata": {},
   "source": [
    "### 2.4 GMM\n",
    "\n",
    "As we saw, Kmeans might not always provide the most optimum output because it deos not have any intrinsic measure of probability or uncertainty of cluster assignments. A major limitation of k-means is that the cluster models must be circular: k-means has no built-in way of accounting for oblong or elliptical clusters.\n",
    "\n",
    "Gaussian mixture models (GMMs) offer an extension to the idea of kmeans and provide a better estimation. They attempt to find a mixture of multi-dimensional Gaussian probability distributions that best model any input dataset. While Kmeans is a method that performs hard labeling, i.e., it simply choses the maximum probability, GMM provide soft labeling by looking at all the probabilities instead of only maximum. "
   ]
  },
  {
   "cell_type": "markdown",
   "metadata": {},
   "source": [
    "**Task:** Try out GMM using `sklearn`'s `GaussianMixture`. Display the probabilities that are assigned to every sample to understand the concept of soft-labeling as explained above. You may also plot the clusters for visualization. \n",
    "\n",
    "Tip: Round the probabilities up to two decimal places before displaying."
   ]
  },
  {
   "cell_type": "code",
   "execution_count": 23,
   "metadata": {},
   "outputs": [
    {
     "name": "stdout",
     "output_type": "stream",
     "text": [
      "[[2.82680255e-011 1.00000000e+000 1.02687745e-010]\n",
      " [3.14330592e-007 9.99999658e-001 2.75054047e-008]\n",
      " [1.80013636e-009 9.99999997e-001 7.10747847e-010]\n",
      " [1.49993142e-008 9.99999983e-001 2.44615179e-009]\n",
      " [2.05360365e-012 1.00000000e+000 1.76766858e-011]\n",
      " [4.74156078e-013 1.00000000e+000 2.24445738e-011]\n",
      " [7.54385689e-011 1.00000000e+000 1.17129272e-010]\n",
      " [2.28166782e-010 9.99999999e-001 3.53022662e-010]\n",
      " [1.84673955e-007 9.99999808e-001 7.41135470e-009]\n",
      " [2.64100611e-008 9.99999969e-001 4.93350815e-009]\n",
      " [2.41890181e-012 1.00000000e+000 3.76419410e-011]\n",
      " [1.33924381e-010 1.00000000e+000 1.99318176e-010]\n",
      " [7.31068387e-008 9.99999920e-001 7.02130802e-009]\n",
      " [1.59378003e-008 9.99999982e-001 1.82610055e-009]\n",
      " [3.11265757e-015 1.00000000e+000 7.07501806e-013]\n",
      " [9.94049061e-019 1.00000000e+000 4.48267811e-015]\n",
      " [4.99469059e-014 1.00000000e+000 3.48782433e-012]\n",
      " [7.32147370e-011 1.00000000e+000 2.25270144e-010]\n",
      " [3.18092524e-011 9.99999999e-001 7.03873210e-010]\n",
      " [1.04663043e-013 1.00000000e+000 3.60164577e-012]\n",
      " [1.32188674e-008 9.99999970e-001 1.69202371e-008]\n",
      " [2.99420855e-012 1.00000000e+000 3.61808024e-011]\n",
      " [6.52230608e-013 1.00000000e+000 1.00584904e-011]\n",
      " [5.72163348e-007 9.99999179e-001 2.48701234e-007]\n",
      " [4.22594698e-010 9.99999999e-001 4.99884944e-010]\n",
      " [1.81483672e-006 9.99998038e-001 1.46697340e-007]\n",
      " [2.97368197e-009 9.99999994e-001 3.18794336e-009]\n",
      " [7.82880352e-011 1.00000000e+000 2.55611426e-010]\n",
      " [4.75190586e-010 9.99999999e-001 7.66594126e-010]\n",
      " [4.78872336e-009 9.99999994e-001 1.53770736e-009]\n",
      " [5.67973416e-008 9.99999934e-001 8.82140554e-009]\n",
      " [6.63600667e-008 9.99999859e-001 7.45674633e-008]\n",
      " [2.67856288e-017 1.00000000e+000 2.21408823e-014]\n",
      " [7.04829155e-018 1.00000000e+000 1.04006080e-014]\n",
      " [6.73294294e-008 9.99999921e-001 1.11832356e-008]\n",
      " [4.36057817e-009 9.99999994e-001 1.81074175e-009]\n",
      " [2.42763137e-010 9.99999999e-001 8.67667377e-010]\n",
      " [8.56118744e-013 1.00000000e+000 9.33479787e-012]\n",
      " [2.89560777e-008 9.99999969e-001 2.53988456e-009]\n",
      " [4.03634608e-010 9.99999999e-001 6.14028564e-010]\n",
      " [2.77866944e-011 1.00000000e+000 9.51488970e-011]\n",
      " [7.41845609e-003 9.92573687e-001 7.85653152e-006]\n",
      " [1.09758007e-009 9.99999998e-001 4.49149011e-010]\n",
      " [3.44224674e-009 9.99999991e-001 5.88428897e-009]\n",
      " [1.94378315e-012 1.00000000e+000 3.76881584e-011]\n",
      " [4.45473084e-007 9.99999520e-001 3.45988482e-008]\n",
      " [6.69172155e-014 1.00000000e+000 2.56234726e-012]\n",
      " [1.80843770e-009 9.99999998e-001 6.70814023e-010]\n",
      " [1.27504096e-012 1.00000000e+000 2.06503807e-011]\n",
      " [1.26271104e-009 9.99999998e-001 9.71075524e-010]\n",
      " [4.02752613e-001 1.20361788e-058 5.97247387e-001]\n",
      " [6.14016925e-001 4.16135873e-046 3.85983075e-001]\n",
      " [4.02705773e-001 1.33104021e-063 5.97294227e-001]\n",
      " [9.76838869e-001 3.28780231e-036 2.31611313e-002]\n",
      " [6.73269257e-001 2.43085770e-057 3.26730743e-001]\n",
      " [9.20282413e-001 5.97475924e-036 7.97175869e-002]\n",
      " [5.54505036e-001 1.39772410e-046 4.45494964e-001]\n",
      " [9.95515989e-001 1.02891748e-015 4.48401132e-003]\n",
      " [6.88869032e-001 1.87904245e-052 3.11130968e-001]\n",
      " [9.72749907e-001 3.13150812e-026 2.72500933e-002]\n",
      " [9.97237205e-001 2.60894659e-023 2.76279490e-003]\n",
      " [8.44268889e-001 2.27906189e-037 1.55731111e-001]\n",
      " [9.67155860e-001 1.84945760e-040 3.28441397e-002]\n",
      " [8.04222666e-001 1.04382431e-045 1.95777334e-001]\n",
      " [9.39923310e-001 5.94924802e-025 6.00766902e-002]\n",
      " [5.89550304e-001 8.45177939e-051 4.10449696e-001]\n",
      " [8.79117225e-001 7.73788622e-035 1.20882775e-001]\n",
      " [9.54465599e-001 7.66344829e-030 4.55344013e-002]\n",
      " [7.94778706e-001 2.71701056e-061 2.05221294e-001]\n",
      " [9.75938779e-001 5.04974807e-030 2.40612215e-002]\n",
      " [6.68331538e-001 2.56721484e-046 3.31668462e-001]\n",
      " [8.89955194e-001 2.02480534e-038 1.10044806e-001]\n",
      " [7.09511460e-001 2.47601048e-062 2.90488540e-001]\n",
      " [8.61395378e-001 5.06475444e-043 1.38604622e-001]\n",
      " [7.86076281e-001 3.38073666e-045 2.13923719e-001]\n",
      " [6.58477864e-001 9.95817771e-051 3.41522136e-001]\n",
      " [5.46843914e-001 8.44399387e-064 4.53156086e-001]\n",
      " [4.03624241e-001 8.14479170e-068 5.96375759e-001]\n",
      " [8.25349050e-001 5.15029556e-044 1.74650950e-001]\n",
      " [9.75322481e-001 5.25590657e-025 2.46775194e-002]\n",
      " [9.83493754e-001 3.77175637e-029 1.65062457e-002]\n",
      " [9.86425108e-001 1.47033141e-026 1.35748921e-002]\n",
      " [9.48105042e-001 5.52200213e-032 5.18949575e-002]\n",
      " [7.55763016e-001 1.31971741e-056 2.44236984e-001]\n",
      " [9.05773246e-001 1.99108404e-031 9.42267536e-002]\n",
      " [6.05927008e-001 9.11884425e-037 3.94072992e-001]\n",
      " [5.15043037e-001 1.07432251e-056 4.84956963e-001]\n",
      " [8.53220882e-001 1.79050520e-055 1.46779118e-001]\n",
      " [9.10731156e-001 2.13447122e-027 8.92688438e-002]\n",
      " [9.71397992e-001 4.63754816e-033 2.86020080e-002]\n",
      " [9.63745280e-001 5.68107505e-033 3.62547203e-002]\n",
      " [7.89154971e-001 8.44990928e-043 2.10845029e-001]\n",
      " [9.53473097e-001 1.63773074e-034 4.65269030e-002]\n",
      " [9.95907033e-001 3.52733710e-018 4.09296669e-003]\n",
      " [9.49529002e-001 3.11423254e-033 5.04709976e-002]\n",
      " [9.04215604e-001 6.21515674e-028 9.57843957e-002]\n",
      " [9.16401230e-001 1.49164702e-031 8.35987701e-002]\n",
      " [8.33774538e-001 2.38705214e-041 1.66225462e-001]\n",
      " [9.92412411e-001 2.26711209e-016 7.58758928e-003]\n",
      " [9.33868962e-001 2.29641219e-032 6.61310383e-002]\n",
      " [1.20893200e-001 1.00313309e-087 8.79106800e-001]\n",
      " [7.17803793e-001 7.18105817e-060 2.82196207e-001]\n",
      " [5.22571629e-002 2.20546213e-103 9.47742837e-001]\n",
      " [4.25833475e-001 1.24000503e-070 5.74166525e-001]\n",
      " [1.52260783e-001 3.62906778e-088 8.47739217e-001]\n",
      " [7.30125768e-003 3.06801558e-130 9.92698742e-001]\n",
      " [9.74034325e-001 3.31871324e-035 2.59656749e-002]\n",
      " [3.98176317e-002 1.05457003e-107 9.60182368e-001]\n",
      " [1.42286169e-001 8.40458915e-093 8.57713831e-001]\n",
      " [2.43195990e-002 2.94771806e-107 9.75680401e-001]\n",
      " [3.28479174e-001 3.09055758e-068 6.71520826e-001]\n",
      " [3.71613480e-001 1.49599722e-076 6.28386520e-001]\n",
      " [1.38207071e-001 5.55210303e-089 8.61792929e-001]\n",
      " [7.24390042e-001 5.09654376e-063 2.75609958e-001]\n",
      " [4.72907236e-001 2.54005169e-071 5.27092764e-001]\n",
      " [2.29869443e-001 4.84949855e-077 7.70130557e-001]\n",
      " [3.53991024e-001 4.56562482e-072 6.46008976e-001]\n",
      " [1.13272482e-002 9.62652826e-116 9.88672752e-001]\n",
      " [5.26812148e-004 9.39996862e-159 9.99473188e-001]\n",
      " [7.80923403e-001 1.59552090e-062 2.19076597e-001]\n",
      " [7.32875769e-002 3.47712720e-096 9.26712423e-001]\n",
      " [7.81702813e-001 7.27174142e-054 2.18297187e-001]\n",
      " [4.02986580e-003 3.62929125e-137 9.95970134e-001]\n",
      " [5.74179756e-001 2.76904274e-066 4.25820244e-001]\n",
      " [1.51175022e-001 8.70774463e-082 8.48824978e-001]\n",
      " [8.62568307e-002 1.36809150e-092 9.13743169e-001]\n",
      " [6.41793447e-001 9.67789458e-061 3.58206553e-001]\n",
      " [6.41102616e-001 1.35487795e-055 3.58897384e-001]\n",
      " [2.26385162e-001 2.68047537e-084 7.73614838e-001]\n",
      " [1.35817678e-001 2.92433165e-088 8.64182322e-001]\n",
      " [2.57427607e-002 8.55417277e-114 9.74257239e-001]\n",
      " [1.42760386e-002 7.22603803e-110 9.85723961e-001]\n",
      " [1.86417583e-001 2.08081287e-087 8.13582417e-001]\n",
      " [6.70251123e-001 1.25420544e-058 3.29748877e-001]\n",
      " [7.10291792e-001 2.48882874e-061 2.89708208e-001]\n",
      " [6.06584678e-003 9.81560183e-133 9.93934153e-001]\n",
      " [1.84115534e-001 9.78548615e-077 8.15884466e-001]\n",
      " [3.91756123e-001 2.04833702e-067 6.08243877e-001]\n",
      " [6.93450100e-001 2.40067970e-052 3.06549900e-001]\n",
      " [1.31881403e-001 7.13557222e-088 8.68118597e-001]\n",
      " [8.95074415e-002 7.19251873e-095 9.10492559e-001]\n",
      " [1.16018487e-001 5.12362356e-090 8.83981513e-001]\n",
      " [7.17803793e-001 7.18105817e-060 2.82196207e-001]\n",
      " [7.42593940e-002 2.86116831e-096 9.25740606e-001]\n",
      " [7.56448523e-002 1.47746025e-094 9.24355148e-001]\n",
      " [1.45108994e-001 2.23395631e-088 8.54891006e-001]\n",
      " [4.61415142e-001 1.61618340e-074 5.38584858e-001]\n",
      " [3.23629848e-001 5.22302734e-074 6.76370152e-001]\n",
      " [2.64079155e-001 1.03306785e-068 7.35920845e-001]\n",
      " [6.87650546e-001 1.58397101e-053 3.12349454e-001]]\n"
     ]
    },
    {
     "data": {
      "image/png": "[encoded data removed]",
      "text/plain": [
       "<Figure size 432x288 with 1 Axes>"
      ]
     },
     "metadata": {
      "needs_background": "light"
     },
     "output_type": "display_data"
    }
   ],
   "source": [
    "# Your code here:\n",
    "from sklearn.mixture import GaussianMixture\n",
    "\n",
    "GMM = GaussianMixture(n_components=3).fit(features_PCA)\n",
    "\n",
    "\n",
    "plt.scatter(features_PCA[:, 0], features_PCA[:,1], c=GMM.predict(features_PCA),cmap='viridis', s = 25)\n",
    "\n",
    "probabilty = GMM.predict_proba(features_PCA)\n",
    "print (probabilty)\n",
    "\n",
    "\n"
   ]
  },
  {
   "cell_type": "markdown",
   "metadata": {},
   "source": [
    "## 3. Bonus task \n",
    "\n",
    "**Task1:** For the above methods, it is highly interesting to work with the features directly without performing PCA. Compare performances of the methods with the results you obtained above with features_PCA.\n",
    "\n",
    "**Task2:** Perform a simple linear regression using `sklearn`'s built-in function on some randomly generated data. "
   ]
  },
  {
   "cell_type": "code",
   "execution_count": 24,
   "metadata": {},
   "outputs": [],
   "source": [
    "# Your code here:\n",
    "\n",
    "\n"
   ]
  },
  {
   "cell_type": "markdown",
   "metadata": {},
   "source": [
    "## 4. Feedback Cell\n",
    "\n",
    "Hopefully you enjoyed this tutorial and learned some important classification methods used commonly in ML. Please leave your comments about what you liked/disliked in the session. Any suggestions are welcome!\n",
    "\n",
    "Your feedback:\n",
    "\n"
   ]
  }
 ],
 "metadata": {
  "kernelspec": {
   "display_name": "Python 3",
   "language": "python",
   "name": "python3"
  },
  "language_info": {
   "codemirror_mode": {
    "name": "ipython",
    "version": 3
   },
   "file_extension": ".py",
   "mimetype": "text/x-python",
   "name": "python",
   "nbconvert_exporter": "python",
   "pygments_lexer": "ipython3",
   "version": "3.7.6"
  }
 },
 "nbformat": 4,
 "nbformat_minor": 4
}
